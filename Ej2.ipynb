{
 "cells": [
  {
   "cell_type": "markdown",
   "metadata": {},
   "source": [
    "# Laboratorio 5 - Data Science Universidad del Valle de Guatemala\n",
    "María Marta Ramírez Gil 21342\n",
    "Gustavo Andrés Gonzalez 21438 \n",
    "\n",
    "------------------------------------------------------------------------------"
   ]
  }
 ],
 "metadata": {
  "language_info": {
   "name": "python"
  }
 },
 "nbformat": 4,
 "nbformat_minor": 2
}
